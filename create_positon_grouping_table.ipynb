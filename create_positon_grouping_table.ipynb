{
 "cells": [
  {
   "cell_type": "code",
   "execution_count": 1,
   "id": "5446f6b3-5837-49c5-b7a9-f7911404a691",
   "metadata": {},
   "outputs": [
    {
     "name": "stdout",
     "output_type": "stream",
     "text": [
      "\\begin{table}[h!]\n",
      "\\centering\n",
      "\\caption{Position Groups and Positions}\n",
      "\\label{tab:position_groups}\n",
      "\\resizebox{\\textwidth}{!}{%\n",
      "\\begin{tabular}{|c|c|}\n",
      "\\hline\n",
      "Position Group & Positions \\\\\n",
      "\\hline\n",
      "centre forward & right centre forward, left centre forward, centre forward \\\\\n",
      "\\hline\n",
      "central defender & right centre back, centre back, left centre back \\\\\n",
      "\\hline\n",
      "full back & left back, right back, left wing back, right wing back \\\\\n",
      "\\hline\n",
      "midfield & left centre midfielder, right centre midfielder \\\\\n",
      "\\hline\n",
      "wide midfield & left midfielder, right midfielder \\\\\n",
      "\\hline\n",
      "defensive midfield & centre defensive midfielder, left defensive midfielder, right defensive midfielder \\\\\n",
      "\\hline\n",
      "attacking midfield & centre attacking midfielder, left attacking midfielder, right attacking midfielder \\\\\n",
      "\\hline\n",
      "wide attacker & right wing, left wing \\\\\n",
      "\\hline\n",
      "\\end{tabular}%\n",
      "}\n",
      "\\end{table}\n",
      "\n"
     ]
    }
   ],
   "source": [
    "import pandas as pd\n",
    "import os\n",
    "import ast\n",
    "\n",
    "\n",
    "# Cross platform information\n",
    "cross_platform_path = '/Users/metinyarici/Library/CloudStorage/OneDrive-SharedLibraries-LincolnCityFC/Player Recruitment - Data Science/cross_platform/'\n",
    "\n",
    "season_information = pd.read_csv(cross_platform_path+'season_information.csv')\n",
    "position_information = pd.read_csv(cross_platform_path+'position_information.csv')\n",
    "metric_grouping_information = pd.read_csv(cross_platform_path+'statsbomb_metric_groups.csv')\n",
    "\n",
    "# Fix list in csvs to match python style\n",
    "metric_grouping_information['positions_statsbomb'] = metric_grouping_information['positions_statsbomb'].apply(lambda x: ','.join([f\"'{item}'\" for item in x.split(',')]))\n",
    "metric_grouping_information['statsbomb_metrics'] = metric_grouping_information['statsbomb_metrics'].apply(lambda x: ','.join([f\"'{item}'\" for item in x.split(',')]))\n",
    "metric_grouping_information['positions_statsbomb'] = metric_grouping_information['positions_statsbomb'].apply(ast.literal_eval)\n",
    "metric_grouping_information['statsbomb_metrics'] = metric_grouping_information['statsbomb_metrics'].apply(ast.literal_eval)\n",
    "\n",
    "def process_positions(value):\n",
    "    if isinstance(value, str):\n",
    "        return [value.strip()]\n",
    "    else:\n",
    "        return [item.strip() for item in value]\n",
    "\n",
    "metric_grouping_information['positions_statsbomb'] = metric_grouping_information['positions_statsbomb'].apply(process_positions)\n",
    "metric_grouping_information['statsbomb_metrics'] = metric_grouping_information['statsbomb_metrics'].apply(process_positions)\n",
    "\n",
    "# Season information\n",
    "chronological_season_ids = season_information['statsbomb_season_id']\n",
    "\n",
    "# Create LaTeX table\n",
    "latex_table = \"\\\\begin{table}[h!]\\n\\\\centering\\n\\\\caption{Position Groups and Positions}\\n\\\\label{tab:position_groups}\\n\\\\resizebox{\\\\textwidth}{!}{%\\n\\\\begin{tabular}{|c|c|}\\n\\\\hline\\n\"\n",
    "latex_table += \"Position Group & Positions \\\\\\\\\\n\\\\hline\\n\"\n",
    "\n",
    "for index, row in metric_grouping_information.iterrows():\n",
    "    position_group = row['position_groups']\n",
    "    if position_group == 'all':\n",
    "        continue\n",
    "    positions = ', '.join(row['positions_statsbomb'])\n",
    "    latex_table += f\"{position_group.replace('_', ' ')} & {positions.replace('_', ' ')} \\\\\\\\\\n\\\\hline\\n\"\n",
    "\n",
    "latex_table += \"\\\\end{tabular}%\\n}\\n\\\\end{table}\\n\"\n",
    "\n",
    "# Print or save the LaTeX table\n",
    "print(latex_table)"
   ]
  },
  {
   "cell_type": "code",
   "execution_count": null,
   "id": "c34225b7-b891-4c51-bc70-a87d9a6db741",
   "metadata": {},
   "outputs": [],
   "source": []
  }
 ],
 "metadata": {
  "kernelspec": {
   "display_name": "Python (transfer_prediction)",
   "language": "python",
   "name": "transfer_prediction"
  },
  "language_info": {
   "codemirror_mode": {
    "name": "ipython",
    "version": 3
   },
   "file_extension": ".py",
   "mimetype": "text/x-python",
   "name": "python",
   "nbconvert_exporter": "python",
   "pygments_lexer": "ipython3",
   "version": "3.13.0"
  }
 },
 "nbformat": 4,
 "nbformat_minor": 5
}
